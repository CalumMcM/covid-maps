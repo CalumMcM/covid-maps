{
 "cells": [
  {
   "cell_type": "code",
   "execution_count": 3,
   "metadata": {},
   "outputs": [],
   "source": [
    "import pandas as pd\n",
    "import geopandas as gpd"
   ]
  },
  {
   "cell_type": "code",
   "execution_count": 4,
   "metadata": {},
   "outputs": [
    {
     "name": "stdout",
     "output_type": "stream",
     "text": [
      "\u001b[1m\u001b[36mInteractive-Choropleth-Map-Using-Python-master\u001b[m\u001b[m\r\n",
      "\u001b[1m\u001b[36mLocal_Authority_Districts_(December_2017)_Boundaries_in_Great_Britain-shp (7)\u001b[m\u001b[m\r\n",
      "README.md\r\n",
      "\u001b[1m\u001b[36mUK-GeoJSON\u001b[m\u001b[m\r\n",
      "c4e38a32-6e31-47b2-8196-1e406ee2433f202048-1-yl9exs.8b0d.shp\r\n",
      "chart_example_from_d3-graph-gallery.html\r\n",
      "d3.min.js\r\n",
      "index.css\r\n",
      "\u001b[31mindex.html\u001b[m\u001b[m\r\n",
      "index.js\r\n",
      "martinjc.github.io.html\r\n",
      "playground.ipynb\r\n",
      "project1.js\r\n",
      "project_1.html\r\n",
      "test.js\r\n",
      "test_map.html\r\n",
      "topo_lad.json\r\n",
      "\u001b[31mus-states.js\u001b[m\u001b[m\r\n"
     ]
    }
   ],
   "source": [
    "!ls"
   ]
  },
  {
   "cell_type": "code",
   "execution_count": null,
   "metadata": {},
   "outputs": [],
   "source": [
    "fp = \"Local_Authority_Districts_(December_2017)_Boundaries_in_Great_Britain-shp (7)/c4e38a32-6e31-47b2-8196-1e406ee2433f202048-1-yl9exs.8b0d.shp\"\n",
    "map_df = gpd.read_file(fp)"
   ]
  },
  {
   "cell_type": "code",
   "execution_count": null,
   "metadata": {},
   "outputs": [],
   "source": []
  },
  {
   "cell_type": "code",
   "execution_count": null,
   "metadata": {},
   "outputs": [],
   "source": []
  }
 ],
 "metadata": {
  "kernelspec": {
   "display_name": "Python 3",
   "language": "python",
   "name": "python3"
  },
  "language_info": {
   "codemirror_mode": {
    "name": "ipython",
    "version": 3
   },
   "file_extension": ".py",
   "mimetype": "text/x-python",
   "name": "python",
   "nbconvert_exporter": "python",
   "pygments_lexer": "ipython3",
   "version": "3.6.9"
  }
 },
 "nbformat": 4,
 "nbformat_minor": 2
}
