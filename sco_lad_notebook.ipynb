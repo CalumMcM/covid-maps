{
 "cells": [
  {
   "cell_type": "markdown",
   "metadata": {},
   "source": [
    "# Scotland Local Area District - Notebook"
   ]
  },
  {
   "cell_type": "code",
   "execution_count": 1,
   "metadata": {},
   "outputs": [],
   "source": [
    "import pandas as pd\n",
    "import numpy as np\n",
    "import zipfile\n",
    "from io import BytesIO\n",
    "from zipfile import ZipFile\n",
    "from urllib.request import urlopen\n",
    "import datetime\n",
    "import urllib.request, urllib.error\n",
    "import os.path"
   ]
  },
  {
   "cell_type": "markdown",
   "metadata": {},
   "source": [
    "## 1. Covid-19 Death Total by Local Authority"
   ]
  },
  {
   "cell_type": "code",
   "execution_count": 2,
   "metadata": {},
   "outputs": [],
   "source": [
    "all_deaths_path = \"data/sco_covid_data/custom_data/all_deaths_lad_18.csv\"\n",
    "covid_deaths_path = \"data/sco_covid_data/custom_data/covid_deaths_lad_18.csv\"\n",
    "loc_deaths_all_path = \"data/sco_covid_data/custom_data/deaths_by_location_all_lad_18.csv\"\n",
    "loc_deaths_corona_path = \"data/sco_covid_data/custom_data/deaths_by_location_corona_lad_18.csv\"\n",
    "path = \"https://www.nrscotland.gov.uk/files//statistics/covid19/\""
   ]
  },
  {
   "cell_type": "code",
   "execution_count": 3,
   "metadata": {},
   "outputs": [],
   "source": [
    "def get_week_num():\n",
    "    return datetime.date.today().isocalendar()[1]"
   ]
  },
  {
   "cell_type": "code",
   "execution_count": 4,
   "metadata": {},
   "outputs": [
    {
     "data": {
      "text/plain": [
       "20"
      ]
     },
     "execution_count": 4,
     "metadata": {},
     "output_type": "execute_result"
    }
   ],
   "source": [
    "get_week_num()"
   ]
  },
  {
   "cell_type": "code",
   "execution_count": 29,
   "metadata": {},
   "outputs": [],
   "source": [
    "'''NEED TO REFACTOR THIS'''\n",
    "def get_covid_deaths_df(path):\n",
    "            \n",
    "    # Try get get the most recent data\n",
    "    try:\n",
    "        url = path + \"covid-deaths-data-week-%d.zip\" % (get_week_num()-1)\n",
    "        conn = urllib.request.urlopen(url)\n",
    "        zipfile = ZipFile(BytesIO(conn.read()))\n",
    "        \n",
    "        df_covid_deaths = pd.read_csv(zipfile.open('covid-deaths-data-week-18_Table 1 - COVID deaths.csv'),header = 3, encoding='unicode-escape')\n",
    "        df_all_deaths = pd.read_csv(zipfile.open('covid-deaths-data-week-18_Table 2 - All deaths.csv'),header = 3, encoding='unicode-escape')\n",
    "        \n",
    "        df_covid_deaths_trimmed = df_covid_deaths.iloc[48:80, 1:get_week_num()+1]\n",
    "        df_all_deaths_trimmed = df_all_deaths.iloc[50:82, 1:get_week_num()+1]\n",
    "\n",
    "        \n",
    "        return df_all_deaths_trimmed, df_covid_deaths_trimmed\n",
    "    \n",
    "    # If error, then get last week response\n",
    "    except urllib.error.HTTPError as e:\n",
    "        url = path + \"covid-deaths-data-week-%d.zip\" % (get_week_num()-2)\n",
    "        conn = urllib.request.urlopen(url)\n",
    "        zipfile = ZipFile(BytesIO(conn.read()))\n",
    "        \n",
    "        df_covid_deaths = pd.read_csv(zipfile.open('covid-deaths-data-week-18_Table 1 - COVID deaths.csv'),header = 3, encoding='unicode-escape')\n",
    "        \n",
    "        idx_start = np.where(df_covid_deaths['Unnamed: 1'] == 'Aberdeen City')[0][0]\n",
    "        idx_end = idx_start + 32\n",
    "        df_covid_deaths_trimmed = df_covid_deaths.iloc[idx_start:idx_end,1:get_week_num()]\n",
    "        df_covid_deaths_trimmed = df_covid_deaths_trimmed.set_index('Unnamed: 1')\n",
    "        \n",
    "        return df_covid_deaths_trimmed"
   ]
  },
  {
   "cell_type": "code",
   "execution_count": 35,
   "metadata": {},
   "outputs": [],
   "source": [
    "df_covid_deaths_per_week = get_covid_deaths_df(path).head()"
   ]
  },
  {
   "cell_type": "code",
   "execution_count": 50,
   "metadata": {},
   "outputs": [],
   "source": [
    "def get_total_deaths_for_lad(df_covid_deaths_per_week, lad_name):\n",
    "    \n",
    "    df_lad = df_covid_deaths_per_week.loc[[lad_name]].transpose()\n",
    "    df_lad = df_lad.reset_index(inplace=True, drop = False)\n",
    "    df_lad = df_lad.rename(columns={'index':'date', la})\n",
    "    return df_lad"
   ]
  },
  {
   "cell_type": "code",
   "execution_count": 51,
   "metadata": {},
   "outputs": [
    {
     "data": {
      "text/html": [
       "<div>\n",
       "<style scoped>\n",
       "    .dataframe tbody tr th:only-of-type {\n",
       "        vertical-align: middle;\n",
       "    }\n",
       "\n",
       "    .dataframe tbody tr th {\n",
       "        vertical-align: top;\n",
       "    }\n",
       "\n",
       "    .dataframe thead th {\n",
       "        text-align: right;\n",
       "    }\n",
       "</style>\n",
       "<table border=\"1\" class=\"dataframe\">\n",
       "  <thead>\n",
       "    <tr style=\"text-align: right;\">\n",
       "      <th>Unnamed: 1</th>\n",
       "      <th>index</th>\n",
       "      <th>Aberdeen City</th>\n",
       "    </tr>\n",
       "  </thead>\n",
       "  <tbody>\n",
       "    <tr>\n",
       "      <th>0</th>\n",
       "      <td>30-Dec-19</td>\n",
       "      <td>0.0</td>\n",
       "    </tr>\n",
       "    <tr>\n",
       "      <th>1</th>\n",
       "      <td>6-Jan-20</td>\n",
       "      <td>0.0</td>\n",
       "    </tr>\n",
       "    <tr>\n",
       "      <th>2</th>\n",
       "      <td>13-Jan-20</td>\n",
       "      <td>0.0</td>\n",
       "    </tr>\n",
       "    <tr>\n",
       "      <th>3</th>\n",
       "      <td>20-Jan-20</td>\n",
       "      <td>0.0</td>\n",
       "    </tr>\n",
       "    <tr>\n",
       "      <th>4</th>\n",
       "      <td>27-Jan-20</td>\n",
       "      <td>0.0</td>\n",
       "    </tr>\n",
       "    <tr>\n",
       "      <th>5</th>\n",
       "      <td>3-Feb-20</td>\n",
       "      <td>0.0</td>\n",
       "    </tr>\n",
       "    <tr>\n",
       "      <th>6</th>\n",
       "      <td>10-Feb-20</td>\n",
       "      <td>0.0</td>\n",
       "    </tr>\n",
       "    <tr>\n",
       "      <th>7</th>\n",
       "      <td>17-Feb-20</td>\n",
       "      <td>0.0</td>\n",
       "    </tr>\n",
       "    <tr>\n",
       "      <th>8</th>\n",
       "      <td>24-Feb-20</td>\n",
       "      <td>0.0</td>\n",
       "    </tr>\n",
       "    <tr>\n",
       "      <th>9</th>\n",
       "      <td>2-Mar-20</td>\n",
       "      <td>0.0</td>\n",
       "    </tr>\n",
       "    <tr>\n",
       "      <th>10</th>\n",
       "      <td>9-Mar-20</td>\n",
       "      <td>0.0</td>\n",
       "    </tr>\n",
       "    <tr>\n",
       "      <th>11</th>\n",
       "      <td>16-Mar-20</td>\n",
       "      <td>1.0</td>\n",
       "    </tr>\n",
       "    <tr>\n",
       "      <th>12</th>\n",
       "      <td>23-Mar-20</td>\n",
       "      <td>0.0</td>\n",
       "    </tr>\n",
       "    <tr>\n",
       "      <th>13</th>\n",
       "      <td>30-Mar-20</td>\n",
       "      <td>2.0</td>\n",
       "    </tr>\n",
       "    <tr>\n",
       "      <th>14</th>\n",
       "      <td>6-Apr-20</td>\n",
       "      <td>12.0</td>\n",
       "    </tr>\n",
       "    <tr>\n",
       "      <th>15</th>\n",
       "      <td>13-Apr-20</td>\n",
       "      <td>18.0</td>\n",
       "    </tr>\n",
       "    <tr>\n",
       "      <th>16</th>\n",
       "      <td>20-Apr-20</td>\n",
       "      <td>15.0</td>\n",
       "    </tr>\n",
       "    <tr>\n",
       "      <th>17</th>\n",
       "      <td>27-Apr-20</td>\n",
       "      <td>15.0</td>\n",
       "    </tr>\n",
       "  </tbody>\n",
       "</table>\n",
       "</div>"
      ],
      "text/plain": [
       "Unnamed: 1      index  Aberdeen City\n",
       "0           30-Dec-19            0.0\n",
       "1            6-Jan-20            0.0\n",
       "2           13-Jan-20            0.0\n",
       "3           20-Jan-20            0.0\n",
       "4           27-Jan-20            0.0\n",
       "5            3-Feb-20            0.0\n",
       "6           10-Feb-20            0.0\n",
       "7           17-Feb-20            0.0\n",
       "8           24-Feb-20            0.0\n",
       "9            2-Mar-20            0.0\n",
       "10           9-Mar-20            0.0\n",
       "11          16-Mar-20            1.0\n",
       "12          23-Mar-20            0.0\n",
       "13          30-Mar-20            2.0\n",
       "14           6-Apr-20           12.0\n",
       "15          13-Apr-20           18.0\n",
       "16          20-Apr-20           15.0\n",
       "17          27-Apr-20           15.0"
      ]
     },
     "execution_count": 51,
     "metadata": {},
     "output_type": "execute_result"
    }
   ],
   "source": [
    "get_total_deaths_for_lad(df_covid_deaths_per_week, 'Aberdeen City')"
   ]
  },
  {
   "cell_type": "code",
   "execution_count": null,
   "metadata": {},
   "outputs": [],
   "source": []
  }
 ],
 "metadata": {
  "kernelspec": {
   "display_name": "Python 3",
   "language": "python",
   "name": "python3"
  },
  "language_info": {
   "codemirror_mode": {
    "name": "ipython",
    "version": 3
   },
   "file_extension": ".py",
   "mimetype": "text/x-python",
   "name": "python",
   "nbconvert_exporter": "python",
   "pygments_lexer": "ipython3",
   "version": "3.6.9"
  }
 },
 "nbformat": 4,
 "nbformat_minor": 2
}
